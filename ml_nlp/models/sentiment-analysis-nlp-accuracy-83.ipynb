{
 "cells": [
  {
   "cell_type": "code",
   "execution_count": 1,
   "id": "d7418bb2",
   "metadata": {
    "_cell_guid": "b1076dfc-b9ad-4769-8c92-a6c4dae69d19",
    "_uuid": "8f2839f25d086af736a60e9eeb907d3b93b6e0e5",
    "execution": {
     "iopub.execute_input": "2023-09-18T16:09:22.548090Z",
     "iopub.status.busy": "2023-09-18T16:09:22.547604Z",
     "iopub.status.idle": "2023-09-18T16:09:25.955812Z",
     "shell.execute_reply": "2023-09-18T16:09:25.954274Z"
    },
    "papermill": {
     "duration": 3.426029,
     "end_time": "2023-09-18T16:09:25.959492",
     "exception": false,
     "start_time": "2023-09-18T16:09:22.533463",
     "status": "completed"
    },
    "tags": []
   },
   "outputs": [],
   "source": [
    "import warnings\n",
    "warnings.filterwarnings('ignore')\n",
    "\n",
    "import numpy as np # linear algebra\n",
    "import pandas as pd # data processing, CSV file I/O (e.g. pd.read_csv)\n",
    "\n",
    "import matplotlib.pyplot as plt\n",
    "import seaborn as sns\n",
    "from string import punctuation\n",
    "from nltk.tokenize import word_tokenize\n",
    "from nltk.stem.snowball import SnowballStemmer\n",
    "from nltk.stem import LancasterStemmer\n",
    "from string import punctuation\n",
    "from nltk.corpus import stopwords\n",
    "from nltk.tokenize import word_tokenize\n",
    "from nltk.stem import LancasterStemmer\n",
    "from nltk.stem.wordnet import WordNetLemmatizer\n",
    "import re\n",
    "\n",
    "# Input data files are available in the read-only \"../input/\" directory\n",
    "# For example, running this (by clicking run or pressing Shift+Enter) will list all files under the input directory\n",
    "\n",
    "import os\n",
    "for dirname, _, filenames in os.walk('/kaggle/input/emotion/text_emotion.csv'):\n",
    "    for filename in filenames:\n",
    "        print(os.path.join(dirname, filename))\n"
   ]
  },
  {
   "cell_type": "markdown",
   "id": "fb346a5e",
   "metadata": {
    "papermill": {
     "duration": 0.012063,
     "end_time": "2023-09-18T16:09:25.983853",
     "exception": false,
     "start_time": "2023-09-18T16:09:25.971790",
     "status": "completed"
    },
    "tags": []
   },
   "source": [
    "# Loading Dataset"
   ]
  },
  {
   "cell_type": "code",
   "execution_count": 2,
   "id": "323ddcbf",
   "metadata": {
    "execution": {
     "iopub.execute_input": "2023-09-18T16:09:26.009533Z",
     "iopub.status.busy": "2023-09-18T16:09:26.008843Z",
     "iopub.status.idle": "2023-09-18T16:09:31.468409Z",
     "shell.execute_reply": "2023-09-18T16:09:31.466441Z"
    },
    "papermill": {
     "duration": 5.476305,
     "end_time": "2023-09-18T16:09:31.471966",
     "exception": false,
     "start_time": "2023-09-18T16:09:25.995661",
     "status": "completed"
    },
    "tags": []
   },
   "outputs": [
    {
     "data": {
      "text/html": [
       "<div>\n",
       "<style scoped>\n",
       "    .dataframe tbody tr th:only-of-type {\n",
       "        vertical-align: middle;\n",
       "    }\n",
       "\n",
       "    .dataframe tbody tr th {\n",
       "        vertical-align: top;\n",
       "    }\n",
       "\n",
       "    .dataframe thead th {\n",
       "        text-align: right;\n",
       "    }\n",
       "</style>\n",
       "<table border=\"1\" class=\"dataframe\">\n",
       "  <thead>\n",
       "    <tr style=\"text-align: right;\">\n",
       "      <th></th>\n",
       "      <th>polarity of tweet</th>\n",
       "      <th>id of the tweet</th>\n",
       "      <th>date of the tweet</th>\n",
       "      <th>query</th>\n",
       "      <th>user</th>\n",
       "      <th>text of the tweet</th>\n",
       "    </tr>\n",
       "  </thead>\n",
       "  <tbody>\n",
       "    <tr>\n",
       "      <th>0</th>\n",
       "      <td>0</td>\n",
       "      <td>1467810672</td>\n",
       "      <td>Mon Apr 06 22:19:49 PDT 2009</td>\n",
       "      <td>NO_QUERY</td>\n",
       "      <td>scotthamilton</td>\n",
       "      <td>is upset that he can't update his Facebook by ...</td>\n",
       "    </tr>\n",
       "    <tr>\n",
       "      <th>1</th>\n",
       "      <td>0</td>\n",
       "      <td>1467810917</td>\n",
       "      <td>Mon Apr 06 22:19:53 PDT 2009</td>\n",
       "      <td>NO_QUERY</td>\n",
       "      <td>mattycus</td>\n",
       "      <td>@Kenichan I dived many times for the ball. Man...</td>\n",
       "    </tr>\n",
       "    <tr>\n",
       "      <th>2</th>\n",
       "      <td>0</td>\n",
       "      <td>1467811184</td>\n",
       "      <td>Mon Apr 06 22:19:57 PDT 2009</td>\n",
       "      <td>NO_QUERY</td>\n",
       "      <td>ElleCTF</td>\n",
       "      <td>my whole body feels itchy and like its on fire</td>\n",
       "    </tr>\n",
       "    <tr>\n",
       "      <th>3</th>\n",
       "      <td>0</td>\n",
       "      <td>1467811193</td>\n",
       "      <td>Mon Apr 06 22:19:57 PDT 2009</td>\n",
       "      <td>NO_QUERY</td>\n",
       "      <td>Karoli</td>\n",
       "      <td>@nationwideclass no, it's not behaving at all....</td>\n",
       "    </tr>\n",
       "    <tr>\n",
       "      <th>4</th>\n",
       "      <td>0</td>\n",
       "      <td>1467811372</td>\n",
       "      <td>Mon Apr 06 22:20:00 PDT 2009</td>\n",
       "      <td>NO_QUERY</td>\n",
       "      <td>joy_wolf</td>\n",
       "      <td>@Kwesidei not the whole crew</td>\n",
       "    </tr>\n",
       "  </tbody>\n",
       "</table>\n",
       "</div>"
      ],
      "text/plain": [
       "   polarity of tweet   id of the tweet             date of the tweet  \\\n",
       "0                   0       1467810672  Mon Apr 06 22:19:49 PDT 2009   \n",
       "1                   0       1467810917  Mon Apr 06 22:19:53 PDT 2009   \n",
       "2                   0       1467811184  Mon Apr 06 22:19:57 PDT 2009   \n",
       "3                   0       1467811193  Mon Apr 06 22:19:57 PDT 2009   \n",
       "4                   0       1467811372  Mon Apr 06 22:20:00 PDT 2009   \n",
       "\n",
       "      query           user                                 text of the tweet   \n",
       "0  NO_QUERY  scotthamilton  is upset that he can't update his Facebook by ...  \n",
       "1  NO_QUERY       mattycus  @Kenichan I dived many times for the ball. Man...  \n",
       "2  NO_QUERY        ElleCTF    my whole body feels itchy and like its on fire   \n",
       "3  NO_QUERY         Karoli  @nationwideclass no, it's not behaving at all....  \n",
       "4  NO_QUERY       joy_wolf                      @Kwesidei not the whole crew   "
      ]
     },
     "execution_count": 2,
     "metadata": {},
     "output_type": "execute_result"
    }
   ],
   "source": [
    "df = pd.read_csv('/kaggle/input/sentiment-analysis-dataset/training.1600000.processed.noemoticon.csv',delimiter=',', encoding='ISO-8859-1')\n",
    "df.head()"
   ]
  },
  {
   "cell_type": "code",
   "execution_count": 3,
   "id": "c892b77f",
   "metadata": {
    "execution": {
     "iopub.execute_input": "2023-09-18T16:09:31.499955Z",
     "iopub.status.busy": "2023-09-18T16:09:31.499482Z",
     "iopub.status.idle": "2023-09-18T16:09:31.508484Z",
     "shell.execute_reply": "2023-09-18T16:09:31.506921Z"
    },
    "papermill": {
     "duration": 0.026614,
     "end_time": "2023-09-18T16:09:31.511412",
     "exception": false,
     "start_time": "2023-09-18T16:09:31.484798",
     "status": "completed"
    },
    "tags": []
   },
   "outputs": [
    {
     "data": {
      "text/plain": [
       "(1048572, 6)"
      ]
     },
     "execution_count": 3,
     "metadata": {},
     "output_type": "execute_result"
    }
   ],
   "source": [
    "df.shape"
   ]
  },
  {
   "cell_type": "markdown",
   "id": "1d91e4f6",
   "metadata": {
    "papermill": {
     "duration": 0.014578,
     "end_time": "2023-09-18T16:09:31.538491",
     "exception": false,
     "start_time": "2023-09-18T16:09:31.523913",
     "status": "completed"
    },
    "tags": []
   },
   "source": [
    "# Data Cleaning and EDA"
   ]
  },
  {
   "cell_type": "code",
   "execution_count": 4,
   "id": "dd3f88de",
   "metadata": {
    "execution": {
     "iopub.execute_input": "2023-09-18T16:09:31.565226Z",
     "iopub.status.busy": "2023-09-18T16:09:31.564763Z",
     "iopub.status.idle": "2023-09-18T16:09:32.052724Z",
     "shell.execute_reply": "2023-09-18T16:09:32.051301Z"
    },
    "papermill": {
     "duration": 0.504983,
     "end_time": "2023-09-18T16:09:32.055807",
     "exception": false,
     "start_time": "2023-09-18T16:09:31.550824",
     "status": "completed"
    },
    "tags": []
   },
   "outputs": [
    {
     "name": "stdout",
     "output_type": "stream",
     "text": [
      "<class 'pandas.core.frame.DataFrame'>\n",
      "RangeIndex: 1048572 entries, 0 to 1048571\n",
      "Data columns (total 6 columns):\n",
      " #   Column              Non-Null Count    Dtype \n",
      "---  ------              --------------    ----- \n",
      " 0   polarity of tweet   1048572 non-null  int64 \n",
      " 1   id of the tweet     1048572 non-null  int64 \n",
      " 2   date of the tweet   1048572 non-null  object\n",
      " 3   query               1048572 non-null  object\n",
      " 4   user                1048572 non-null  object\n",
      " 5   text of the tweet   1048572 non-null  object\n",
      "dtypes: int64(2), object(4)\n",
      "memory usage: 48.0+ MB\n"
     ]
    }
   ],
   "source": [
    "df.info()"
   ]
  },
  {
   "cell_type": "code",
   "execution_count": 5,
   "id": "0575167d",
   "metadata": {
    "execution": {
     "iopub.execute_input": "2023-09-18T16:09:32.083124Z",
     "iopub.status.busy": "2023-09-18T16:09:32.082666Z",
     "iopub.status.idle": "2023-09-18T16:09:32.537528Z",
     "shell.execute_reply": "2023-09-18T16:09:32.536304Z"
    },
    "papermill": {
     "duration": 0.471351,
     "end_time": "2023-09-18T16:09:32.540164",
     "exception": false,
     "start_time": "2023-09-18T16:09:32.068813",
     "status": "completed"
    },
    "tags": []
   },
   "outputs": [
    {
     "data": {
      "text/plain": [
       "polarity of tweet     0\n",
       "id of the tweet       0\n",
       "date of the tweet     0\n",
       "query                 0\n",
       "user                  0\n",
       "text of the tweet     0\n",
       "dtype: int64"
      ]
     },
     "execution_count": 5,
     "metadata": {},
     "output_type": "execute_result"
    }
   ],
   "source": [
    "df.isnull().sum()"
   ]
  },
  {
   "cell_type": "markdown",
   "id": "2ad8d25b",
   "metadata": {
    "execution": {
     "iopub.execute_input": "2023-09-15T11:36:21.60858Z",
     "iopub.status.busy": "2023-09-15T11:36:21.608048Z",
     "iopub.status.idle": "2023-09-15T11:36:21.617412Z",
     "shell.execute_reply": "2023-09-15T11:36:21.615484Z",
     "shell.execute_reply.started": "2023-09-15T11:36:21.608521Z"
    },
    "papermill": {
     "duration": 0.011734,
     "end_time": "2023-09-18T16:09:32.564254",
     "exception": false,
     "start_time": "2023-09-18T16:09:32.552520",
     "status": "completed"
    },
    "tags": []
   },
   "source": [
    "There's no null values that's good for us"
   ]
  },
  {
   "cell_type": "code",
   "execution_count": 6,
   "id": "797d0988",
   "metadata": {
    "execution": {
     "iopub.execute_input": "2023-09-18T16:09:32.590990Z",
     "iopub.status.busy": "2023-09-18T16:09:32.590127Z",
     "iopub.status.idle": "2023-09-18T16:09:32.626987Z",
     "shell.execute_reply": "2023-09-18T16:09:32.625779Z"
    },
    "papermill": {
     "duration": 0.053414,
     "end_time": "2023-09-18T16:09:32.629768",
     "exception": false,
     "start_time": "2023-09-18T16:09:32.576354",
     "status": "completed"
    },
    "tags": []
   },
   "outputs": [
    {
     "data": {
      "text/html": [
       "<div>\n",
       "<style scoped>\n",
       "    .dataframe tbody tr th:only-of-type {\n",
       "        vertical-align: middle;\n",
       "    }\n",
       "\n",
       "    .dataframe tbody tr th {\n",
       "        vertical-align: top;\n",
       "    }\n",
       "\n",
       "    .dataframe thead th {\n",
       "        text-align: right;\n",
       "    }\n",
       "</style>\n",
       "<table border=\"1\" class=\"dataframe\">\n",
       "  <thead>\n",
       "    <tr style=\"text-align: right;\">\n",
       "      <th></th>\n",
       "      <th>polarity of tweet</th>\n",
       "      <th>text of the tweet</th>\n",
       "    </tr>\n",
       "  </thead>\n",
       "  <tbody>\n",
       "    <tr>\n",
       "      <th>0</th>\n",
       "      <td>0</td>\n",
       "      <td>is upset that he can't update his Facebook by ...</td>\n",
       "    </tr>\n",
       "    <tr>\n",
       "      <th>1</th>\n",
       "      <td>0</td>\n",
       "      <td>@Kenichan I dived many times for the ball. Man...</td>\n",
       "    </tr>\n",
       "    <tr>\n",
       "      <th>2</th>\n",
       "      <td>0</td>\n",
       "      <td>my whole body feels itchy and like its on fire</td>\n",
       "    </tr>\n",
       "    <tr>\n",
       "      <th>3</th>\n",
       "      <td>0</td>\n",
       "      <td>@nationwideclass no, it's not behaving at all....</td>\n",
       "    </tr>\n",
       "    <tr>\n",
       "      <th>4</th>\n",
       "      <td>0</td>\n",
       "      <td>@Kwesidei not the whole crew</td>\n",
       "    </tr>\n",
       "  </tbody>\n",
       "</table>\n",
       "</div>"
      ],
      "text/plain": [
       "   polarity of tweet                                  text of the tweet \n",
       "0                   0  is upset that he can't update his Facebook by ...\n",
       "1                   0  @Kenichan I dived many times for the ball. Man...\n",
       "2                   0    my whole body feels itchy and like its on fire \n",
       "3                   0  @nationwideclass no, it's not behaving at all....\n",
       "4                   0                      @Kwesidei not the whole crew "
      ]
     },
     "execution_count": 6,
     "metadata": {},
     "output_type": "execute_result"
    }
   ],
   "source": [
    "#Now Let's drop the columns we don't need!\n",
    "df.drop(['id of the tweet', 'date of the tweet', 'query', 'user'], axis=1, inplace=True)\n",
    "df.head()"
   ]
  },
  {
   "cell_type": "code",
   "execution_count": 7,
   "id": "4502deec",
   "metadata": {
    "execution": {
     "iopub.execute_input": "2023-09-18T16:09:32.656692Z",
     "iopub.status.busy": "2023-09-18T16:09:32.656201Z",
     "iopub.status.idle": "2023-09-18T16:09:32.662279Z",
     "shell.execute_reply": "2023-09-18T16:09:32.660958Z"
    },
    "papermill": {
     "duration": 0.02253,
     "end_time": "2023-09-18T16:09:32.664749",
     "exception": false,
     "start_time": "2023-09-18T16:09:32.642219",
     "status": "completed"
    },
    "tags": []
   },
   "outputs": [],
   "source": [
    "#Simplifying the names of columns\n",
    "df.columns = ['sentiment', 'text']"
   ]
  },
  {
   "cell_type": "code",
   "execution_count": 8,
   "id": "0b960770",
   "metadata": {
    "execution": {
     "iopub.execute_input": "2023-09-18T16:09:32.691807Z",
     "iopub.status.busy": "2023-09-18T16:09:32.691317Z",
     "iopub.status.idle": "2023-09-18T16:09:32.822176Z",
     "shell.execute_reply": "2023-09-18T16:09:32.820498Z"
    },
    "papermill": {
     "duration": 0.147885,
     "end_time": "2023-09-18T16:09:32.825181",
     "exception": false,
     "start_time": "2023-09-18T16:09:32.677296",
     "status": "completed"
    },
    "tags": []
   },
   "outputs": [
    {
     "name": "stdout",
     "output_type": "stream",
     "text": [
      "<class 'pandas.core.frame.DataFrame'>\n",
      "RangeIndex: 1048572 entries, 0 to 1048571\n",
      "Data columns (total 2 columns):\n",
      " #   Column     Non-Null Count    Dtype \n",
      "---  ------     --------------    ----- \n",
      " 0   sentiment  1048572 non-null  int64 \n",
      " 1   text       1048572 non-null  object\n",
      "dtypes: int64(1), object(1)\n",
      "memory usage: 16.0+ MB\n"
     ]
    }
   ],
   "source": [
    "df.info()"
   ]
  },
  {
   "cell_type": "code",
   "execution_count": 9,
   "id": "8d050aff",
   "metadata": {
    "execution": {
     "iopub.execute_input": "2023-09-18T16:09:32.853280Z",
     "iopub.status.busy": "2023-09-18T16:09:32.852794Z",
     "iopub.status.idle": "2023-09-18T16:09:32.873401Z",
     "shell.execute_reply": "2023-09-18T16:09:32.872249Z"
    },
    "papermill": {
     "duration": 0.037964,
     "end_time": "2023-09-18T16:09:32.876257",
     "exception": false,
     "start_time": "2023-09-18T16:09:32.838293",
     "status": "completed"
    },
    "tags": []
   },
   "outputs": [
    {
     "data": {
      "text/plain": [
       "sentiment\n",
       "0    799996\n",
       "4    248576\n",
       "Name: count, dtype: int64"
      ]
     },
     "execution_count": 9,
     "metadata": {},
     "output_type": "execute_result"
    }
   ],
   "source": [
    "df['sentiment'].value_counts()"
   ]
  },
  {
   "cell_type": "markdown",
   "id": "c44bc292",
   "metadata": {
    "papermill": {
     "duration": 0.013759,
     "end_time": "2023-09-18T16:09:38.256394",
     "exception": false,
     "start_time": "2023-09-18T16:09:38.242635",
     "status": "completed"
    },
    "tags": []
   },
   "source": [
    "# Text Preprocessing"
   ]
  },
  {
   "cell_type": "code",
   "execution_count": 12,
   "id": "28f94a18",
   "metadata": {
    "execution": {
     "iopub.execute_input": "2023-09-18T16:09:38.288718Z",
     "iopub.status.busy": "2023-09-18T16:09:38.287775Z",
     "iopub.status.idle": "2023-09-18T16:09:38.327560Z",
     "shell.execute_reply": "2023-09-18T16:09:38.325527Z"
    },
    "papermill": {
     "duration": 0.058754,
     "end_time": "2023-09-18T16:09:38.330480",
     "exception": false,
     "start_time": "2023-09-18T16:09:38.271726",
     "status": "completed"
    },
    "tags": []
   },
   "outputs": [
    {
     "name": "stdout",
     "output_type": "stream",
     "text": [
      "1048572\n",
      "is upset that he can't update his Facebook by texting it... and might cry as a result  School today also. Blah!\n"
     ]
    }
   ],
   "source": [
    "stuff_to_be_removed = list(stopwords.words('english'))+list(punctuation)\n",
    "stemmer = LancasterStemmer()\n",
    "corpus = df['text'].tolist()\n",
    "print(len(corpus))\n",
    "print(corpus[0])"
   ]
  },
  {
   "cell_type": "code",
   "execution_count": 13,
   "id": "57605571",
   "metadata": {
    "execution": {
     "iopub.execute_input": "2023-09-18T16:09:38.362419Z",
     "iopub.status.busy": "2023-09-18T16:09:38.361502Z",
     "iopub.status.idle": "2023-09-18T16:14:18.026431Z",
     "shell.execute_reply": "2023-09-18T16:14:18.025190Z"
    },
    "papermill": {
     "duration": 279.684706,
     "end_time": "2023-09-18T16:14:18.030265",
     "exception": false,
     "start_time": "2023-09-18T16:09:38.345559",
     "status": "completed"
    },
    "tags": []
   },
   "outputs": [],
   "source": [
    "final_corpus = []\n",
    "final_corpus_joined = []\n",
    "for i in df.index:\n",
    "    text = re.sub('[^a-zA-Z]', ' ', df['text'][i])\n",
    "    text = text.lower()\n",
    "    text=re.sub(\"&lt;/?.*?&gt;\",\" &lt;&gt; \",text)\n",
    "    text=re.sub(\"(\\\\d|\\\\W)+\",\" \",text)\n",
    "    text = text.split()\n",
    "    lem = SnowballStemmer(\"english\")\n",
    "    text = [lem.stem(word) for word in text if not word in stuff_to_be_removed] \n",
    "    text1 = \" \".join(text)\n",
    "    final_corpus.append(text)\n",
    "    final_corpus_joined.append(text1)"
   ]
  },
  {
   "cell_type": "code",
   "execution_count": 14,
   "id": "78e345cd",
   "metadata": {
    "execution": {
     "iopub.execute_input": "2023-09-18T16:14:18.061636Z",
     "iopub.status.busy": "2023-09-18T16:14:18.061100Z",
     "iopub.status.idle": "2023-09-18T16:14:18.352504Z",
     "shell.execute_reply": "2023-09-18T16:14:18.351297Z"
    },
    "papermill": {
     "duration": 0.310534,
     "end_time": "2023-09-18T16:14:18.355644",
     "exception": false,
     "start_time": "2023-09-18T16:14:18.045110",
     "status": "completed"
    },
    "tags": []
   },
   "outputs": [],
   "source": [
    "data_cleaned = pd.DataFrame()\n",
    "data_cleaned[\"text\"] = final_corpus_joined\n",
    "data_cleaned[\"sentiment\"] = df[\"sentiment\"].values"
   ]
  },
  {
   "cell_type": "code",
   "execution_count": 15,
   "id": "0587f1c8",
   "metadata": {
    "execution": {
     "iopub.execute_input": "2023-09-18T16:14:18.387100Z",
     "iopub.status.busy": "2023-09-18T16:14:18.386615Z",
     "iopub.status.idle": "2023-09-18T16:14:18.401771Z",
     "shell.execute_reply": "2023-09-18T16:14:18.400429Z"
    },
    "papermill": {
     "duration": 0.034497,
     "end_time": "2023-09-18T16:14:18.404539",
     "exception": false,
     "start_time": "2023-09-18T16:14:18.370042",
     "status": "completed"
    },
    "tags": []
   },
   "outputs": [
    {
     "data": {
      "text/html": [
       "<div>\n",
       "<style scoped>\n",
       "    .dataframe tbody tr th:only-of-type {\n",
       "        vertical-align: middle;\n",
       "    }\n",
       "\n",
       "    .dataframe tbody tr th {\n",
       "        vertical-align: top;\n",
       "    }\n",
       "\n",
       "    .dataframe thead th {\n",
       "        text-align: right;\n",
       "    }\n",
       "</style>\n",
       "<table border=\"1\" class=\"dataframe\">\n",
       "  <thead>\n",
       "    <tr style=\"text-align: right;\">\n",
       "      <th></th>\n",
       "      <th>text</th>\n",
       "      <th>sentiment</th>\n",
       "    </tr>\n",
       "  </thead>\n",
       "  <tbody>\n",
       "    <tr>\n",
       "      <th>0</th>\n",
       "      <td>upset updat facebook text might cri result sch...</td>\n",
       "      <td>0</td>\n",
       "    </tr>\n",
       "    <tr>\n",
       "      <th>1</th>\n",
       "      <td>kenichan dive mani time ball manag save rest g...</td>\n",
       "      <td>0</td>\n",
       "    </tr>\n",
       "    <tr>\n",
       "      <th>2</th>\n",
       "      <td>whole bodi feel itchi like fire</td>\n",
       "      <td>0</td>\n",
       "    </tr>\n",
       "    <tr>\n",
       "      <th>3</th>\n",
       "      <td>nationwideclass behav mad see</td>\n",
       "      <td>0</td>\n",
       "    </tr>\n",
       "    <tr>\n",
       "      <th>4</th>\n",
       "      <td>kwesidei whole crew</td>\n",
       "      <td>0</td>\n",
       "    </tr>\n",
       "    <tr>\n",
       "      <th>...</th>\n",
       "      <td>...</td>\n",
       "      <td>...</td>\n",
       "    </tr>\n",
       "    <tr>\n",
       "      <th>1048567</th>\n",
       "      <td>grandma make dinenr mum</td>\n",
       "      <td>4</td>\n",
       "    </tr>\n",
       "    <tr>\n",
       "      <th>1048568</th>\n",
       "      <td>mid morn snack time bowl chees noodl yum</td>\n",
       "      <td>4</td>\n",
       "    </tr>\n",
       "    <tr>\n",
       "      <th>1048569</th>\n",
       "      <td>shadela say like termini movi come like word</td>\n",
       "      <td>4</td>\n",
       "    </tr>\n",
       "    <tr>\n",
       "      <th>1048570</th>\n",
       "      <td>destinyhop im great thaank wbuu</td>\n",
       "      <td>4</td>\n",
       "    </tr>\n",
       "    <tr>\n",
       "      <th>1048571</th>\n",
       "      <td>cant wait til date weekend</td>\n",
       "      <td>4</td>\n",
       "    </tr>\n",
       "  </tbody>\n",
       "</table>\n",
       "<p>1048572 rows × 2 columns</p>\n",
       "</div>"
      ],
      "text/plain": [
       "                                                      text  sentiment\n",
       "0        upset updat facebook text might cri result sch...          0\n",
       "1        kenichan dive mani time ball manag save rest g...          0\n",
       "2                          whole bodi feel itchi like fire          0\n",
       "3                            nationwideclass behav mad see          0\n",
       "4                                      kwesidei whole crew          0\n",
       "...                                                    ...        ...\n",
       "1048567                            grandma make dinenr mum          4\n",
       "1048568           mid morn snack time bowl chees noodl yum          4\n",
       "1048569       shadela say like termini movi come like word          4\n",
       "1048570                    destinyhop im great thaank wbuu          4\n",
       "1048571                         cant wait til date weekend          4\n",
       "\n",
       "[1048572 rows x 2 columns]"
      ]
     },
     "execution_count": 15,
     "metadata": {},
     "output_type": "execute_result"
    }
   ],
   "source": [
    "data_cleaned"
   ]
  },
  {
   "cell_type": "code",
   "execution_count": 16,
   "id": "35e6c40a",
   "metadata": {
    "execution": {
     "iopub.execute_input": "2023-09-18T16:14:18.435705Z",
     "iopub.status.busy": "2023-09-18T16:14:18.435253Z",
     "iopub.status.idle": "2023-09-18T16:14:19.211995Z",
     "shell.execute_reply": "2023-09-18T16:14:19.210642Z"
    },
    "papermill": {
     "duration": 0.79565,
     "end_time": "2023-09-18T16:14:19.214742",
     "exception": false,
     "start_time": "2023-09-18T16:14:18.419092",
     "status": "completed"
    },
    "tags": []
   },
   "outputs": [
    {
     "data": {
      "text/html": [
       "<div>\n",
       "<style scoped>\n",
       "    .dataframe tbody tr th:only-of-type {\n",
       "        vertical-align: middle;\n",
       "    }\n",
       "\n",
       "    .dataframe tbody tr th {\n",
       "        vertical-align: top;\n",
       "    }\n",
       "\n",
       "    .dataframe thead th {\n",
       "        text-align: right;\n",
       "    }\n",
       "</style>\n",
       "<table border=\"1\" class=\"dataframe\">\n",
       "  <thead>\n",
       "    <tr style=\"text-align: right;\">\n",
       "      <th></th>\n",
       "      <th>text</th>\n",
       "      <th>sentiment</th>\n",
       "    </tr>\n",
       "  </thead>\n",
       "  <tbody>\n",
       "    <tr>\n",
       "      <th>0</th>\n",
       "      <td>[upset, updat, facebook, text, might, cri, res...</td>\n",
       "      <td>0</td>\n",
       "    </tr>\n",
       "    <tr>\n",
       "      <th>1</th>\n",
       "      <td>[kenichan, dive, mani, time, ball, manag, save...</td>\n",
       "      <td>0</td>\n",
       "    </tr>\n",
       "    <tr>\n",
       "      <th>2</th>\n",
       "      <td>[whole, bodi, feel, itchi, like, fire]</td>\n",
       "      <td>0</td>\n",
       "    </tr>\n",
       "    <tr>\n",
       "      <th>3</th>\n",
       "      <td>[nationwideclass, behav, mad, see]</td>\n",
       "      <td>0</td>\n",
       "    </tr>\n",
       "    <tr>\n",
       "      <th>4</th>\n",
       "      <td>[kwesidei, whole, crew]</td>\n",
       "      <td>0</td>\n",
       "    </tr>\n",
       "  </tbody>\n",
       "</table>\n",
       "</div>"
      ],
      "text/plain": [
       "                                                text  sentiment\n",
       "0  [upset, updat, facebook, text, might, cri, res...          0\n",
       "1  [kenichan, dive, mani, time, ball, manag, save...          0\n",
       "2             [whole, bodi, feel, itchi, like, fire]          0\n",
       "3                 [nationwideclass, behav, mad, see]          0\n",
       "4                            [kwesidei, whole, crew]          0"
      ]
     },
     "execution_count": 16,
     "metadata": {},
     "output_type": "execute_result"
    }
   ],
   "source": [
    "#This df is created for wordcloud only\n",
    "data_eda = pd.DataFrame()\n",
    "data_eda['text'] = final_corpus\n",
    "data_eda['sentiment'] = df['sentiment'].values\n",
    "data_eda.head()"
   ]
  },
  {
   "cell_type": "markdown",
   "id": "70579e5c",
   "metadata": {
    "papermill": {
     "duration": 0.01528,
     "end_time": "2023-09-18T16:14:19.245993",
     "exception": false,
     "start_time": "2023-09-18T16:14:19.230713",
     "status": "completed"
    },
    "tags": []
   },
   "source": [
    "# Word Cloud"
   ]
  },
  {
   "cell_type": "code",
   "execution_count": 17,
   "id": "350241f1",
   "metadata": {
    "execution": {
     "iopub.execute_input": "2023-09-18T16:14:19.278709Z",
     "iopub.status.busy": "2023-09-18T16:14:19.278176Z",
     "iopub.status.idle": "2023-09-18T16:14:19.403903Z",
     "shell.execute_reply": "2023-09-18T16:14:19.402457Z"
    },
    "papermill": {
     "duration": 0.14613,
     "end_time": "2023-09-18T16:14:19.407324",
     "exception": false,
     "start_time": "2023-09-18T16:14:19.261194",
     "status": "completed"
    },
    "tags": []
   },
   "outputs": [],
   "source": [
    "positive = data_eda[data_eda['sentiment'] == 4]\n",
    "positive_list = positive['text'].tolist()\n",
    "negative = data_eda[data_eda['sentiment'] == 0]\n",
    "negative_list = negative['text'].tolist()"
   ]
  },
  {
   "cell_type": "code",
   "execution_count": 18,
   "id": "4683ba31",
   "metadata": {
    "execution": {
     "iopub.execute_input": "2023-09-18T16:14:19.540605Z",
     "iopub.status.busy": "2023-09-18T16:14:19.540083Z",
     "iopub.status.idle": "2023-09-18T16:14:20.568385Z",
     "shell.execute_reply": "2023-09-18T16:14:20.567049Z"
    },
    "papermill": {
     "duration": 1.048443,
     "end_time": "2023-09-18T16:14:20.571519",
     "exception": false,
     "start_time": "2023-09-18T16:14:19.523076",
     "status": "completed"
    },
    "tags": []
   },
   "outputs": [],
   "source": [
    "positive_all = \" \".join([word for sent in positive_list for word in sent ])\n",
    "negative_all = \" \".join([word for sent in negative_list for word in sent ])"
   ]
  },
  {
   "cell_type": "markdown",
   "id": "2ae8b228",
   "metadata": {
    "papermill": {
     "duration": 0.044591,
     "end_time": "2023-09-18T16:15:51.169353",
     "exception": false,
     "start_time": "2023-09-18T16:15:51.124762",
     "status": "completed"
    },
    "tags": []
   },
   "source": [
    "# Model Building"
   ]
  },
  {
   "cell_type": "code",
   "execution_count": 21,
   "id": "748065c4",
   "metadata": {
    "execution": {
     "iopub.execute_input": "2023-09-18T16:15:51.263115Z",
     "iopub.status.busy": "2023-09-18T16:15:51.262056Z",
     "iopub.status.idle": "2023-09-18T16:15:51.269217Z",
     "shell.execute_reply": "2023-09-18T16:15:51.267749Z"
    },
    "papermill": {
     "duration": 0.057738,
     "end_time": "2023-09-18T16:15:51.271934",
     "exception": false,
     "start_time": "2023-09-18T16:15:51.214196",
     "status": "completed"
    },
    "tags": []
   },
   "outputs": [],
   "source": [
    "X = data_cleaned['text']\n",
    "y = data_cleaned['sentiment']"
   ]
  },
  {
   "cell_type": "code",
   "execution_count": 22,
   "id": "7ce622c6",
   "metadata": {
    "execution": {
     "iopub.execute_input": "2023-09-18T16:15:51.364181Z",
     "iopub.status.busy": "2023-09-18T16:15:51.363714Z",
     "iopub.status.idle": "2023-09-18T16:16:10.068622Z",
     "shell.execute_reply": "2023-09-18T16:16:10.066871Z"
    },
    "papermill": {
     "duration": 18.756344,
     "end_time": "2023-09-18T16:16:10.073147",
     "exception": false,
     "start_time": "2023-09-18T16:15:51.316803",
     "status": "completed"
    },
    "tags": []
   },
   "outputs": [],
   "source": [
    "from sklearn.feature_extraction.text import TfidfVectorizer\n",
    "tfid = TfidfVectorizer()\n",
    "Xt = tfid.fit_transform(X)"
   ]
  },
  {
   "cell_type": "code",
   "execution_count": 23,
   "id": "027aee87",
   "metadata": {
    "execution": {
     "iopub.execute_input": "2023-09-18T16:16:10.170878Z",
     "iopub.status.busy": "2023-09-18T16:16:10.169756Z",
     "iopub.status.idle": "2023-09-18T16:16:10.456886Z",
     "shell.execute_reply": "2023-09-18T16:16:10.455519Z"
    },
    "papermill": {
     "duration": 0.339823,
     "end_time": "2023-09-18T16:16:10.460953",
     "exception": false,
     "start_time": "2023-09-18T16:16:10.121130",
     "status": "completed"
    },
    "tags": []
   },
   "outputs": [],
   "source": [
    "from sklearn.model_selection import train_test_split\n",
    "X_train, X_test, y_train, y_test = train_test_split(Xt, y, test_size=0.2, random_state= 42)"
   ]
  },
  {
   "cell_type": "markdown",
   "id": "9be9ba3e",
   "metadata": {
    "papermill": {
     "duration": 0.045124,
     "end_time": "2023-09-18T16:16:10.556165",
     "exception": false,
     "start_time": "2023-09-18T16:16:10.511041",
     "status": "completed"
    },
    "tags": []
   },
   "source": [
    "**Logistic Regression**"
   ]
  },
  {
   "cell_type": "code",
   "execution_count": 24,
   "id": "b366d160",
   "metadata": {
    "execution": {
     "iopub.execute_input": "2023-09-18T16:16:10.651690Z",
     "iopub.status.busy": "2023-09-18T16:16:10.651188Z",
     "iopub.status.idle": "2023-09-18T16:16:45.483765Z",
     "shell.execute_reply": "2023-09-18T16:16:45.482538Z"
    },
    "papermill": {
     "duration": 34.958182,
     "end_time": "2023-09-18T16:16:45.560685",
     "exception": false,
     "start_time": "2023-09-18T16:16:10.602503",
     "status": "completed"
    },
    "tags": []
   },
   "outputs": [
    {
     "data": {
      "text/html": [
       "<style>#sk-container-id-1 {color: black;background-color: white;}#sk-container-id-1 pre{padding: 0;}#sk-container-id-1 div.sk-toggleable {background-color: white;}#sk-container-id-1 label.sk-toggleable__label {cursor: pointer;display: block;width: 100%;margin-bottom: 0;padding: 0.3em;box-sizing: border-box;text-align: center;}#sk-container-id-1 label.sk-toggleable__label-arrow:before {content: \"▸\";float: left;margin-right: 0.25em;color: #696969;}#sk-container-id-1 label.sk-toggleable__label-arrow:hover:before {color: black;}#sk-container-id-1 div.sk-estimator:hover label.sk-toggleable__label-arrow:before {color: black;}#sk-container-id-1 div.sk-toggleable__content {max-height: 0;max-width: 0;overflow: hidden;text-align: left;background-color: #f0f8ff;}#sk-container-id-1 div.sk-toggleable__content pre {margin: 0.2em;color: black;border-radius: 0.25em;background-color: #f0f8ff;}#sk-container-id-1 input.sk-toggleable__control:checked~div.sk-toggleable__content {max-height: 200px;max-width: 100%;overflow: auto;}#sk-container-id-1 input.sk-toggleable__control:checked~label.sk-toggleable__label-arrow:before {content: \"▾\";}#sk-container-id-1 div.sk-estimator input.sk-toggleable__control:checked~label.sk-toggleable__label {background-color: #d4ebff;}#sk-container-id-1 div.sk-label input.sk-toggleable__control:checked~label.sk-toggleable__label {background-color: #d4ebff;}#sk-container-id-1 input.sk-hidden--visually {border: 0;clip: rect(1px 1px 1px 1px);clip: rect(1px, 1px, 1px, 1px);height: 1px;margin: -1px;overflow: hidden;padding: 0;position: absolute;width: 1px;}#sk-container-id-1 div.sk-estimator {font-family: monospace;background-color: #f0f8ff;border: 1px dotted black;border-radius: 0.25em;box-sizing: border-box;margin-bottom: 0.5em;}#sk-container-id-1 div.sk-estimator:hover {background-color: #d4ebff;}#sk-container-id-1 div.sk-parallel-item::after {content: \"\";width: 100%;border-bottom: 1px solid gray;flex-grow: 1;}#sk-container-id-1 div.sk-label:hover label.sk-toggleable__label {background-color: #d4ebff;}#sk-container-id-1 div.sk-serial::before {content: \"\";position: absolute;border-left: 1px solid gray;box-sizing: border-box;top: 0;bottom: 0;left: 50%;z-index: 0;}#sk-container-id-1 div.sk-serial {display: flex;flex-direction: column;align-items: center;background-color: white;padding-right: 0.2em;padding-left: 0.2em;position: relative;}#sk-container-id-1 div.sk-item {position: relative;z-index: 1;}#sk-container-id-1 div.sk-parallel {display: flex;align-items: stretch;justify-content: center;background-color: white;position: relative;}#sk-container-id-1 div.sk-item::before, #sk-container-id-1 div.sk-parallel-item::before {content: \"\";position: absolute;border-left: 1px solid gray;box-sizing: border-box;top: 0;bottom: 0;left: 50%;z-index: -1;}#sk-container-id-1 div.sk-parallel-item {display: flex;flex-direction: column;z-index: 1;position: relative;background-color: white;}#sk-container-id-1 div.sk-parallel-item:first-child::after {align-self: flex-end;width: 50%;}#sk-container-id-1 div.sk-parallel-item:last-child::after {align-self: flex-start;width: 50%;}#sk-container-id-1 div.sk-parallel-item:only-child::after {width: 0;}#sk-container-id-1 div.sk-dashed-wrapped {border: 1px dashed gray;margin: 0 0.4em 0.5em 0.4em;box-sizing: border-box;padding-bottom: 0.4em;background-color: white;}#sk-container-id-1 div.sk-label label {font-family: monospace;font-weight: bold;display: inline-block;line-height: 1.2em;}#sk-container-id-1 div.sk-label-container {text-align: center;}#sk-container-id-1 div.sk-container {/* jupyter's `normalize.less` sets `[hidden] { display: none; }` but bootstrap.min.css set `[hidden] { display: none !important; }` so we also need the `!important` here to be able to override the default hidden behavior on the sphinx rendered scikit-learn.org. See: https://github.com/scikit-learn/scikit-learn/issues/21755 */display: inline-block !important;position: relative;}#sk-container-id-1 div.sk-text-repr-fallback {display: none;}</style><div id=\"sk-container-id-1\" class=\"sk-top-container\"><div class=\"sk-text-repr-fallback\"><pre>LogisticRegression()</pre><b>In a Jupyter environment, please rerun this cell to show the HTML representation or trust the notebook. <br />On GitHub, the HTML representation is unable to render, please try loading this page with nbviewer.org.</b></div><div class=\"sk-container\" hidden><div class=\"sk-item\"><div class=\"sk-estimator sk-toggleable\"><input class=\"sk-toggleable__control sk-hidden--visually\" id=\"sk-estimator-id-1\" type=\"checkbox\" checked><label for=\"sk-estimator-id-1\" class=\"sk-toggleable__label sk-toggleable__label-arrow\">LogisticRegression</label><div class=\"sk-toggleable__content\"><pre>LogisticRegression()</pre></div></div></div></div></div>"
      ],
      "text/plain": [
       "LogisticRegression()"
      ]
     },
     "execution_count": 24,
     "metadata": {},
     "output_type": "execute_result"
    }
   ],
   "source": [
    "from sklearn.linear_model import LogisticRegression\n",
    "model = LogisticRegression()\n",
    "model.fit(X_train, y_train)"
   ]
  },
  {
   "cell_type": "code",
   "execution_count": 25,
   "id": "0f7baddb",
   "metadata": {
    "execution": {
     "iopub.execute_input": "2023-09-18T16:16:45.655589Z",
     "iopub.status.busy": "2023-09-18T16:16:45.655050Z",
     "iopub.status.idle": "2023-09-18T16:16:45.672749Z",
     "shell.execute_reply": "2023-09-18T16:16:45.671340Z"
    },
    "papermill": {
     "duration": 0.068552,
     "end_time": "2023-09-18T16:16:45.675905",
     "exception": false,
     "start_time": "2023-09-18T16:16:45.607353",
     "status": "completed"
    },
    "tags": []
   },
   "outputs": [],
   "source": [
    "y_pred = model.predict(X_test)"
   ]
  },
  {
   "cell_type": "code",
   "execution_count": 26,
   "id": "70e03342",
   "metadata": {
    "execution": {
     "iopub.execute_input": "2023-09-18T16:16:45.771031Z",
     "iopub.status.busy": "2023-09-18T16:16:45.769865Z",
     "iopub.status.idle": "2023-09-18T16:16:46.160706Z",
     "shell.execute_reply": "2023-09-18T16:16:46.159435Z"
    },
    "papermill": {
     "duration": 0.441481,
     "end_time": "2023-09-18T16:16:46.163556",
     "exception": false,
     "start_time": "2023-09-18T16:16:45.722075",
     "status": "completed"
    },
    "tags": []
   },
   "outputs": [
    {
     "name": "stdout",
     "output_type": "stream",
     "text": [
      "Classification Report:\n",
      "               precision    recall  f1-score   support\n",
      "\n",
      "           0       0.85      0.95      0.90    160130\n",
      "           4       0.73      0.46      0.57     49585\n",
      "\n",
      "    accuracy                           0.83    209715\n",
      "   macro avg       0.79      0.70      0.73    209715\n",
      "weighted avg       0.82      0.83      0.82    209715\n",
      "\n"
     ]
    }
   ],
   "source": [
    "#Showing Model Summary\n",
    "from sklearn.metrics import classification_report, confusion_matrix, ConfusionMatrixDisplay\n",
    "print('Classification Report:\\n', classification_report(y_test, y_pred))"
   ]
  },
  {
   "cell_type": "code",
   "execution_count": 27,
   "id": "5e21891b",
   "metadata": {
    "execution": {
     "iopub.execute_input": "2023-09-18T16:16:46.257620Z",
     "iopub.status.busy": "2023-09-18T16:16:46.256921Z",
     "iopub.status.idle": "2023-09-18T16:16:46.808209Z",
     "shell.execute_reply": "2023-09-18T16:16:46.807313Z"
    },
    "papermill": {
     "duration": 0.601938,
     "end_time": "2023-09-18T16:16:46.810860",
     "exception": false,
     "start_time": "2023-09-18T16:16:46.208922",
     "status": "completed"
    },
    "tags": []
   },
   "outputs": [
    {
     "data": {
      "text/plain": [
       "<sklearn.metrics._plot.confusion_matrix.ConfusionMatrixDisplay at 0x7d4004c27910>"
      ]
     },
     "execution_count": 27,
     "metadata": {},
     "output_type": "execute_result"
    },
    {
     "data": {
      "image/png": "[encoded data removed]",
      "text/plain": [
       "<Figure size 640x480 with 2 Axes>"
      ]
     },
     "metadata": {},
     "output_type": "display_data"
    }
   ],
   "source": [
    "#Visualizing Model Results\n",
    "t1 = ConfusionMatrixDisplay(confusion_matrix(y_test, y_pred))\n",
    "t1.plot()"
   ]
  }
 ],
 "metadata": {
  "kernelspec": {
   "display_name": "Python 3 (ipykernel)",
   "language": "python",
   "name": "python3"
  },
  "language_info": {
   "codemirror_mode": {
    "name": "ipython",
    "version": 3
   },
   "file_extension": ".py",
   "mimetype": "text/x-python",
   "name": "python",
   "nbconvert_exporter": "python",
   "pygments_lexer": "ipython3",
   "version": "3.11.4"
  },
  "papermill": {
   "default_parameters": {},
   "duration": 450.955199,
   "end_time": "2023-09-18T16:16:49.304934",
   "environment_variables": {},
   "exception": null,
   "input_path": "__notebook__.ipynb",
   "output_path": "__notebook__.ipynb",
   "parameters": {},
   "start_time": "2023-09-18T16:09:18.349735",
   "version": "2.4.0"
  }
 },
 "nbformat": 4,
 "nbformat_minor": 5
}
